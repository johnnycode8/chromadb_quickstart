{
 "cells": [
  {
   "cell_type": "code",
   "execution_count": 1,
   "metadata": {},
   "outputs": [],
   "source": [
    "import chromadb\n",
    "from chromadb.utils import embedding_functions\n",
    "from chromadb.config import Settings"
   ]
  },
  {
   "cell_type": "code",
   "execution_count": null,
   "metadata": {},
   "outputs": [],
   "source": [
    "# Connect with no authentication\n",
    "chroma_client = chromadb.HttpClient(host='localhost', port=8800,)"
   ]
  },
  {
   "cell_type": "code",
   "execution_count": null,
   "metadata": {},
   "outputs": [],
   "source": [
    "# Connect with token authentication\n",
    "chroma_client = chromadb.HttpClient(host='localhost', port=8800,\n",
    "    settings=Settings(\n",
    "        chroma_client_auth_provider=\"chromadb.auth.token_authn.TokenAuthClientProvider\",\n",
    "        chroma_client_auth_credentials=\"test-token\"\n",
    "    )\n",
    ")"
   ]
  },
  {
   "cell_type": "code",
   "execution_count": 4,
   "metadata": {},
   "outputs": [],
   "source": [
    "# Connect with role-based authentication\n",
    "chroma_client = chromadb.HttpClient(host='localhost', port=8800,\n",
    "    settings=Settings(\n",
    "        chroma_client_auth_provider=\"chromadb.auth.token_authn.TokenAuthClientProvider\",\n",
    "        chroma_server_authn_provider=\"chromadb.auth.simple_rbac_authz.SimpleRBACAuthorizationProvider\",\n",
    "        chroma_client_auth_credentials=\"test-token-readonly\"\n",
    "    )\n",
    ")"
   ]
  },
  {
   "cell_type": "code",
   "execution_count": null,
   "metadata": {},
   "outputs": [],
   "source": [
    "sentence_transformer_ef = embedding_functions.SentenceTransformerEmbeddingFunction(model_name=\"all-mpnet-base-v2\")\n",
    "\n",
    "# Create the collection, aka vector database. Or, if database already exist, then use it. Specify the model that we want to use to do the embedding.\n",
    "collection = chroma_client.get_collection(name=\"my_collection\", embedding_function=sentence_transformer_ef)"
   ]
  },
  {
   "cell_type": "code",
   "execution_count": 7,
   "metadata": {},
   "outputs": [],
   "source": [
    "import csv\n",
    "\n",
    "# Load sample data (a restaurant menu of items)\n",
    "with open('./../menu_items.csv') as file:\n",
    "    lines = csv.reader(file)\n",
    "\n",
    "    # Store the name of the menu items in this array. In Chroma, a \"document\" is a string i.e. name, sentence, paragraph, etc.\n",
    "    documents = []\n",
    "\n",
    "    # Store the corresponding menu item IDs in this array.\n",
    "    metadatas = []\n",
    "\n",
    "    # Each \"document\" needs a unique ID. This is like the primary key of a relational database. We'll start at 1 and increment from there.\n",
    "    ids = []\n",
    "    id = 1\n",
    "\n",
    "    # Loop thru each line and populate the 3 arrays.\n",
    "    for i, line in enumerate(lines):\n",
    "        if i==0:\n",
    "            # Skip the first row (the column headers)\n",
    "            continue\n",
    "\n",
    "        documents.append(line[1])\n",
    "        metadatas.append({\"item_id\": line[0]})\n",
    "        ids.append(str(id))\n",
    "        id+=1"
   ]
  },
  {
   "cell_type": "code",
   "execution_count": null,
   "metadata": {},
   "outputs": [],
   "source": [
    "# Add all the data to the vector database. ChromaDB automatically converts and stores the text as vector embeddings. This may take a few minutes.\n",
    "collection.add(\n",
    "    documents=documents,\n",
    "    metadatas=metadatas,\n",
    "    ids=ids\n",
    ")"
   ]
  },
  {
   "cell_type": "code",
   "execution_count": null,
   "metadata": {},
   "outputs": [],
   "source": [
    "# Query the vector database\n",
    "\n",
    "# Query mispelled word: 'vermiceli'. Expect to find the correctly spelled 'vermicelli' item\n",
    "results = collection.query(\n",
    "    query_texts=[\"vermiceli\"],\n",
    "    n_results=5,\n",
    "    include=['documents', 'distances', 'metadatas']\n",
    ")\n",
    "print(results['documents'])\n",
    "\n",
    "# Query word variation: 'donut'. Expect to find the 'doughnut' item\n",
    "results = collection.query(\n",
    "    query_texts=[\"donut\"],\n",
    "    n_results=5,\n",
    "    include=['documents', 'distances', 'metadatas']\n",
    ")\n",
    "print(results['documents'])\n",
    "\n",
    "# Query similar meaning: 'shrimp'. Expect to find the 'prawn' items\n",
    "results = collection.query(\n",
    "    query_texts=[\"shrimp\"],\n",
    "    n_results=5,\n",
    "    include=['documents', 'distances', 'metadatas']\n",
    ")\n",
    "print(results['documents'])\n"
   ]
  }
 ],
 "metadata": {
  "kernelspec": {
   "display_name": "recipe_env",
   "language": "python",
   "name": "python3"
  },
  "language_info": {
   "codemirror_mode": {
    "name": "ipython",
    "version": 3
   },
   "file_extension": ".py",
   "mimetype": "text/x-python",
   "name": "python",
   "nbconvert_exporter": "python",
   "pygments_lexer": "ipython3",
   "version": "3.11.9"
  }
 },
 "nbformat": 4,
 "nbformat_minor": 2
}
